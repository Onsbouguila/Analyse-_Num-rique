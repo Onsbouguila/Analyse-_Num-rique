{
 "cells": [
  {
   "cell_type": "markdown",
   "metadata": {},
   "source": [
    "<center> <h1 style=\"color:purple\"> Analyse numérique </h1>\n",
    "<h1 style=\"color:purple\"> TP3</h1>\n",
    "<h2 style=\"color:#DA70D6\"> Réalisé par: Bouguila Ons </h2> </center>"
   ]
  },
  {
   "cell_type": "markdown",
   "metadata": {},
   "source": [
    "\n",
    "<h3 style=\"color:#32CD32 \"> <img src=\"Image/video1.gif\" alt=\"Méthode des Rectangles Gauche\" width=\"800\"/> </h3>"
   ]
  },
  {
   "cell_type": "markdown",
   "metadata": {},
   "source": [
    "\n",
    "<h3 style=\"color:#32CD32 \">Pour Installer la bibliothéque \"ipywidgets\" </h3>"
   ]
  },
  {
   "cell_type": "code",
   "execution_count": 219,
   "metadata": {},
   "outputs": [],
   "source": [
    "#conda install -c conda-forge ipympl"
   ]
  },
  {
   "cell_type": "markdown",
   "metadata": {},
   "source": [
    "<h3 style=\"color:#32CD32 \"> Déclaration des Bibliothéques </h3>"
   ]
  },
  {
   "cell_type": "code",
   "execution_count": 220,
   "metadata": {},
   "outputs": [],
   "source": [
    "\n",
    "from pylab import *\n",
    "import numpy as np\n",
    "import matplotlib.pyplot as plt\n",
    "from scipy.integrate import quad\n",
    "from ipywidgets import interact, interactive, fixed, interact_manual, widgets\n",
    "%matplotlib widget\n",
    "import ipywidgets as widgets\n",
    "import matplotlib.pyplot as plt\n",
    "import numpy as np"
   ]
  },
  {
   "cell_type": "code",
   "execution_count": 221,
   "metadata": {},
   "outputs": [],
   "source": [
    "f=lambda x:1/(1+x**2)"
   ]
  },
  {
   "cell_type": "markdown",
   "metadata": {},
   "source": [
    "<h3 style=\"color:#32CD32\"> Méthode des Rectangles Gauche </h3>"
   ]
  },
  {
   "cell_type": "markdown",
   "metadata": {},
   "source": [
    "On approche l’aire : <h4 style=\"color:#0080ff \"> $$\\int_a^b f(t) \\,dt$$  </h4>\n",
    "Par une somme d’aire de rectangles comme le montre la figure ci-contre i.e. On approche f(t) sur [tk, tk+1] par f(tk).\n",
    "    <img src=\"Image/recG.png\" alt=\"Méthode des Rectangles Gauche\" width=\"400\"/>\n",
    "L’aire des rectangles obtenue est :\n",
    "<h4 style=\"color:#0080ff \">  $$V.A = \\frac {b-a}n \\sum\\limits _{k=0}^{n-1} f(t_k) $$ </h4>\n",
    "On admet que si f est de classe C1 alors l’erreur commise par la méthode des rectangles est détérminé par l’inégalité suivante :\n",
    " <h4 style=\"color:#0080ff \">  $$\\left\\lvert \\int_a^b f(t) \\,dt - V.A \\right\\rvert \\le \\frac {b-a}n Max\\left\\lvert f' \\right\\rvert $$ </h4>"
   ]
  },
  {
   "cell_type": "code",
   "execution_count": 222,
   "metadata": {},
   "outputs": [],
   "source": [
    "class Rectangle ( object ) :\n",
    "    def __init__ (self , a , b , n , f ) :\n",
    "        self.a = a\n",
    "        self.b = b\n",
    "        self.x = np.linspace( a , b , n+1 )\n",
    "        self.f = f\n",
    "        self.n = n\n",
    "    def integrate ( self , f ) :\n",
    "        x= self.x\n",
    "        y= f( x )\n",
    "        h = float( x[1] - x[0] )\n",
    "        s = sum( y[ 0 : -1 ] )\n",
    "        return h * s\n",
    "    def Graph ( self , f , resolution =1001 ) :\n",
    "        xl = self.x\n",
    "        yl = f(xl)\n",
    "        xlist_fine =np.linspace( self.a , self.b , resolution )\n",
    "        for i in range ( self.n ) :\n",
    "            x_rect = [xl[ i ] , xl[ i ] , xl[ i + 1 ] , xl[i+1] , xl[ i ] ] # abscisses des sommets\n",
    "            y_rect = [0 , yl[ i ] , yl[ i ] , 0 , 0 ] # ordonnees des sommets\n",
    "            plt.plot ( x_rect , y_rect , 'r' )\n",
    "        yflist_fine = f ( xlist_fine )\n",
    "        plt.plot ( xlist_fine , yflist_fine )\n",
    "        plt.plot(xl, yl,\"bo\")\n",
    "        plt.xlabel ( 'x' )\n",
    "        plt.ylabel ( ' f ( x ) ' )\n",
    "        plt.title('Methode des Rectangles Gauches, N = {}'.format(self.n))\n",
    "        plt.text( 0.5*( self.a+ self.b ) , f(self.b ) , 'I_{} ={:0.8f}'.format(self.n,self.integrate( f ) ) , fontsize =15 )"
   ]
  },
  {
   "cell_type": "markdown",
   "metadata": {},
   "source": [
    "<h3 style=\"color:#32CD32 \"> Méthode des Trapézes  </h3> <br> <br>\n",
    "On approche l’aire : <h3 style=\"color:#ff8533\"> $$\\int_a^b f(t) \\,dt$$  </h3> <br>\n",
    "Comme le montre la figure ci-dessous i.e. on approche f sur [tk, tk+1] par lafonction affine qui coïncide avec f aux points tk et tk+1.\n",
    "<img src=\"Image/trap.png\" alt=\"Méthode des Trapézes\" width=\"400\"/>\n",
    "L’aire des trapèzes obtenue est :\n",
    "<h3 style=\"color:#ff8533\"> $$V.A = \\frac {b-a}n \\left(\\frac {f(a)+f(b)}2 + \\sum\\limits _{k=0}^{n-1} f(t_k) \\right) $$ </h3>\n",
    "On admet que si f est de classe C1 alors l’erreur commise par la méthode des rectangles est détérminé par l’inégalité suivante :\n",
    "<h3 style=\"color:#ff8533\"> $$\\left\\lvert \\int_a^b f(t) \\,dt - V.A \\right\\rvert \\le \\frac {(b-a)³}{12n²} Max\\left\\lvert f\" \\right\\rvert $$ </h3>"
   ]
  },
  {
   "cell_type": "markdown",
   "metadata": {},
   "source": [
    "<h3 style=\"color:#32CD32 \"> Code : Méthode de Trapézes  </h3>"
   ]
  },
  {
   "cell_type": "code",
   "execution_count": 223,
   "metadata": {},
   "outputs": [],
   "source": [
    "class Trapezoidal(object):\n",
    "    def __init__(self, a, b, n, f):\n",
    "        self.a = a\n",
    "        self.b = b\n",
    "        self.x = np.linspace(a, b, n+1)\n",
    "        self.f = f\n",
    "        self.n = n\n",
    "    def integrate(self,f):\n",
    "        x=self.x\n",
    "        y=f(x)\n",
    "        h = float(x[1] - x[0])\n",
    "        s = y[0] + y[-1] + 2.0*sum(y[1:-1])\n",
    "        return h * s / 2.0\n",
    "    def Graph(self,f,resolution=1001):\n",
    "        xl = self.x\n",
    "        yl = f(xl)\n",
    "        xlist_fine=np.linspace(self.a, self.b, resolution)\n",
    "        for i in range(self.n):\n",
    "            x_rect = [xl[i], xl[i], xl[i+1], xl[i+1], xl[i]] # abscisses des sommets\n",
    "            y_rect = [0   , yl[i], yl[i+1]  , 0     , 0   ] # ordonnees des sommets\n",
    "            plt.plot(x_rect, y_rect,\"r\")\n",
    "        yflist_fine = f(xlist_fine)\n",
    "        plt.plot(xlist_fine, yflist_fine)#plot de f(x)\n",
    "        plt.plot(xl, yl,\"cs\")#point support\n",
    "        plt.ylabel ( ' f ( x ) ' )\n",
    "        plt.title('Methode des Trapézes, N = {}'.format(self.n))\n",
    "        plt.text( 0.5*( self.a+ self.b ) , f(self.b ) , 'I_{} ={:0.8f}'.format(self.n,self.integrate( f ) ) , fontsize =15 )"
   ]
  },
  {
   "cell_type": "markdown",
   "metadata": {},
   "source": [
    "<h3 style=\"color:#32CD32 \"> Méthode de simpson  </h3> <br> <br>\n",
    "On approche l’aire :  <h3 style=\"color:#ff8533\">  $$\\int_a^b f(t) \\,dt$$  </h3>\n",
    "Comme le montre la figure ci-dessous i.e. La méthode consiste à approcher f sur [tk, tk+1] par la fonction polynomiale de degré 2.\n",
    "<img src=\"Image/simp.png\" alt=\"Méthode de Simpson\" width=\"400\"/>\n",
    "L’aire obtenue est :\n",
    "<h3 style=\"color:#ff8533\"> $$V.A = \\frac {b-a}{6n} \\sum\\limits _{k=0}^{n-1} f(t_k)  \\left(f(t_k)\\frac {f(t_k)+f(t_{k+1})}2 +f(t_{k+1}) \\right) $$ </h3>\n",
    "On admet que si f est de classe C4 alors l’erreur commise par la méthode de Simpson est donné par l’inégalité suivante :\n",
    "<h3 style=\"color:#ff8533\">  $$\\left\\lvert \\int_a^b f(t) \\,dt - V.A \\right\\rvert \\le \\frac {(b-a)⁵}{2880n⁴} Max\\left\\lvert f⁴ \\right\\rvert $$ </h3>\n"
   ]
  },
  {
   "cell_type": "markdown",
   "metadata": {},
   "source": [
    "<h3 style=\"color:#32CD32 \"> Code : Méthode de simpson  </h3>"
   ]
  },
  {
   "cell_type": "code",
   "execution_count": 224,
   "metadata": {},
   "outputs": [],
   "source": [
    " class Simpson (object) :\n",
    "    def __init__ ( self ,a, b,n, f ) :\n",
    "        self.a = a\n",
    "        self.b = b\n",
    "        self.x = np.linspace(a,b,n+1)\n",
    "        self.f = f\n",
    "        self.n = n\n",
    "    def integrate ( self, f) :\n",
    "        x=self.x\n",
    "        y=f(x)\n",
    "        h=float(x[1] - x[0])\n",
    "        n =len(x)-1\n",
    "        s = y[0] + y[-1] + 4.0*sum(y[1:-1])\n",
    "        return h * s / 4.0\n",
    "    def Graph ( self,f, resolution=1001) :\n",
    "        xl=self.x\n",
    "        yl= f(xl)\n",
    "        xlist_fine=np.linspace(self.a , self.b,resolution)\n",
    "        for i in range (self.n) :\n",
    "            xx = np.linspace(xl[i] ,xl[i+1], resolution)\n",
    "            m=(xl[i]+xl[i+1])/2\n",
    "            a= xl[i]\n",
    "            b= xl[i+1]\n",
    "            l0=(xx-m)/(a-m)*(xx-b )/(a-b)\n",
    "            l1=(xx-a)/(m-a )*(xx-b)/(m-b)\n",
    "            l2=(xx-a )/(b-a)*(xx-m)/(b-m)\n",
    "            P= f(a)*l0+f(m)*l1+f(b)*l2\n",
    "            plt.plot(xx,P,\"r\")\n",
    "        yflist_fine=f(xlist_fine)\n",
    "        plt.plot(xlist_fine,yflist_fine,\"b\")\n",
    "        plt.plot(xl,yl,\"ro\")\n",
    "        plt.xlabel('x')\n",
    "        plt.ylabel('f(x)')\n",
    "        plt.title('Methode de simpson')\n",
    "        plt.text( 0.5*( self.a+ self.b ) , f(self.b ) , 'I_{} ={:0.8f}'.format(self.n,self.integrate( f ) ) , fontsize =15 )"
   ]
  },
  {
   "cell_type": "markdown",
   "metadata": {},
   "source": [
    "\n",
    "<h3 style=\"color:#32CD32 \"> Méthode de point milieu  </h3> <br> <br>\n",
    "On approche l’aire : \n",
    "<h3 style=\"color:#ff8533\"> $$\\int_a^b f(t) \\,dt$$ </h3>\n",
    "Comme le montre la figure ci-dessous i.e. La méthode consiste à approcher f sur [tk, tk+1].\n",
    "<img src=\"Image/milieu.png\" alt=\"Méthode des Points Milieux\" width=\"400\"/>\n",
    "L’aire des rectangles obtenue est :\n",
    "<h3 style=\"color:#ff8533\"> $$V.A = \\frac{b-a}n \\sum\\limits _{k=0}^{n-1} f\\left(\\frac{t_k+t_{k+1}}2\\right) $$ </h3>\n",
    "On admet que si f est de classe C4 alors l’erreur commise par la méthode de Simpson est donné par l’inégalité suivante :\n",
    "<h3 style=\"color:#ff8533\"> $$\\left\\lvert \\int_a^b f(t) \\,dt - V.A \\right\\rvert \\le \\frac {(b-a)³}{24n²} Max\\left\\lvert f\" \\right\\rvert $$ </h3>"
   ]
  },
  {
   "cell_type": "markdown",
   "metadata": {},
   "source": [
    "<h3 style=\"color:#32CD32 \"> Code : Méthode de point de point milieu  </h3>"
   ]
  },
  {
   "cell_type": "code",
   "execution_count": 225,
   "metadata": {},
   "outputs": [],
   "source": [
    "class Milieu(object): #class rectange \n",
    "    def __init__(self, a, b, n, f):#initialiser les paramètres du classe\n",
    "        self.a = a\n",
    "        self.b = b\n",
    "        self.x = np.linspace(a, b, n+1)\n",
    "        self.f = f\n",
    "        self.n = n\n",
    "    def integrate(self,f):\n",
    "        x=self.x# contiens les xi\n",
    "        h = float(x[1] - x[0])\n",
    "        s=0\n",
    "        for i in range(self.n):\n",
    "            s=s+f((x[i]+x[i+1])*0.5)\n",
    "        return h*s\n",
    "       \n",
    "    def Graph(self,f,resolution=1001):\n",
    "        xl = self.x\n",
    "        yl=f(xl);\n",
    "        xlist_fine=np.linspace(self.a, self.b, resolution)\n",
    "        \n",
    "        for i in range(self.n):\n",
    "            \n",
    "            m=(xl[i]+xl[i+1])/2\n",
    "            x_rect = [xl[i], xl[i], xl[i+1], xl[i+1], xl[i]] # abscisses des sommets\n",
    "            y_rect = [0   , f(m), f(m)  , 0     , 0   ] # ordonnees des sommets\n",
    "            plot(x_rect, y_rect,\"g\")\n",
    "            yflist_fine = f(xlist_fine)\n",
    "            plt.plot(xlist_fine, yflist_fine)\n",
    "            plt.plot(m,f(m),\"r*\")\n",
    "            plt.xlabel('x')\n",
    "            plt.ylabel('f(x)')\n",
    "            plt.title('Méthode du point milieu')\n",
    "            plt.text( 0.5*( self.a+ self.b ) , f(self.b ) , 'I_{} ={:0.8f}'.format(self.n,self.integrate( f ) ) , fontsize =15 )"
   ]
  },
  {
   "cell_type": "markdown",
   "metadata": {},
   "source": [
    "<h3 style=\"color:#32CD32 \">Simulation </h3> <br> <br>"
   ]
  },
  {
   "cell_type": "code",
   "execution_count": 226,
   "metadata": {},
   "outputs": [],
   "source": [
    "def sim(a,b,n,f):\n",
    "    T = Trapezoidal(a, b, n, f)\n",
    "    S = Simpson(a, b, n, f)\n",
    "    R = Rectangle(a, b, n, f)\n",
    "    M = Milieu(a,b,n,f)\n",
    "\n",
    "    #fig = plt.figure(figsize=(10,10))\n",
    "    ax = fig.add_subplot(221) \n",
    "    grid()\n",
    "    T.Graph(f) \n",
    "\n",
    "    ax = fig.add_subplot(222)\n",
    "    grid()\n",
    "    S.Graph(f)\n",
    "\n",
    "    ax = fig.add_subplot(223)\n",
    "    grid()\n",
    "    R.Graph(f)\n",
    "\n",
    "    ax = fig.add_subplot(224)\n",
    "    M.Graph(f)\n",
    "    grid()\n",
    "\n",
    "    plt.show()"
   ]
  },
  {
   "cell_type": "code",
   "execution_count": 227,
   "metadata": {},
   "outputs": [],
   "source": [
    "output = widgets.Output() \n",
    "with output:\n",
    "    fig= plt.figure(figsize=(6,6))\n",
    "\n",
    "fig.canvas.toolbar_position = 'bottom'"
   ]
  },
  {
   "cell_type": "code",
   "execution_count": 234,
   "metadata": {},
   "outputs": [],
   "source": [
    "# create some control elements\n",
    "int_slider = widgets.IntSlider(value=1, min=1, max=10, step=1, description='N')\n",
    "color_picker = widgets.ColorPicker(value=\"blue\", description='couleur')\n",
    "text_a= widgets.IntText(value=-1, description='borne a', continuous_update=False)\n",
    "text_b = widgets.IntText(value=1, description='borne b', continuous_update=False)\n",
    "select = widgets.Dropdown(options={'1/(1+x**2)':lambda x:1/(1+x**2),\n",
    "                                    'sin(x)':lambda x: sin(x),\n",
    "                                    'cos(x)':lambda x:cos(x),\n",
    "                                    'x**2':lambda x:x**2},description='choisir f') \n",
    "button = widgets.Button(description=\"Simulation\")\n",
    "\n",
    "# callback functions\n",
    "def update(change):\n",
    "    \"\"\"redraw line (update plot)\"\"\"\n",
    "    fig.clear() \n",
    "    sim(text_a.value,text_b.value,int_slider.value,select.value)\n",
    "   \n",
    "def line_color(change):\n",
    "    \"\"\"set line color\"\"\"\n",
    "    fig.clear()\n",
    "    sim(text_a.value,text_b.value,int_slider.value,select.value)\n",
    "\n",
    "def on_button_clicked(b):\n",
    "    with output:\n",
    "        fig.clear()\n",
    "        sim(text_a.value,text_b.value,int_slider.value,select.value)\n",
    "\n",
    "int_slider.observe(update, 'value')\n",
    "color_picker.observe(line_color, 'value')\n"
   ]
  },
  {
   "cell_type": "markdown",
   "metadata": {},
   "source": [
    "<h3 style=\"color:#32CD32 \"> Explication de l'interface  </h3> \n",
    "\n",
    "<p> On doit choisir tout d'abord une valeur de N puis on choisit la fonction qu'on va utiliser et enfin préciser l'intervalle [a,b],on insérant les valeurs a et b et enfin afficher les résultats obtenus par les différents méthodes qu'on a developpéon appuyant sur le bonton \"simulation\" </p>"
   ]
  },
  {
   "cell_type": "code",
   "execution_count": 236,
   "metadata": {},
   "outputs": [
    {
     "data": {
      "application/vnd.jupyter.widget-view+json": {
       "model_id": "b03fbfdb450c47aea18f7aa9424ed5aa",
       "version_major": 2,
       "version_minor": 0
      },
      "text/plain": [
       "HBox(children=(VBox(children=(IntSlider(value=1, description='N', max=10, min=1), ColorPicker(value='blue', de…"
      ]
     },
     "metadata": {},
     "output_type": "display_data"
    }
   ],
   "source": [
    "vbox1 = widgets.VBox([int_slider,color_picker,select,text_a,text_b,button])\n",
    "vbox2 = widgets.VBox([ output])\n",
    "\n",
    "box_layout = widgets.Layout(\n",
    "       border='solid 2px blue',\n",
    "      margin='0px 10px 10px 0px',\n",
    "        padding='5px 5px 5px 5px')\n",
    "vbox1.layout = box_layout\n",
    "vbox2.layout = box_layout\n",
    "controls = widgets.VBox([int_slider, color_picker,text_a, text_b,select,button])\n",
    "button.on_click(on_button_clicked)\n",
    "widgets.HBox([controls, output])\n",
    "widgets.HBox([vbox1, vbox2])"
   ]
  },
  {
   "cell_type": "code",
   "execution_count": null,
   "metadata": {},
   "outputs": [],
   "source": []
  },
  {
   "cell_type": "code",
   "execution_count": null,
   "metadata": {},
   "outputs": [],
   "source": []
  }
 ],
 "metadata": {
  "kernelspec": {
   "display_name": "Python 3",
   "language": "python",
   "name": "python3"
  },
  "language_info": {
   "codemirror_mode": {
    "name": "ipython",
    "version": 3
   },
   "file_extension": ".py",
   "mimetype": "text/x-python",
   "name": "python",
   "nbconvert_exporter": "python",
   "pygments_lexer": "ipython3",
   "version": "3.8.3"
  }
 },
 "nbformat": 4,
 "nbformat_minor": 4
}
