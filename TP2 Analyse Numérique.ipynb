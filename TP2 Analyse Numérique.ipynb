{
 "cells": [
  {
   "cell_type": "markdown",
   "metadata": {},
   "source": [
    "## Exercice 1\n"
   ]
  },
  {
   "cell_type": "markdown",
   "metadata": {},
   "source": [
    "#### Q1"
   ]
  },
  {
   "cell_type": "code",
   "execution_count": 37,
   "metadata": {},
   "outputs": [],
   "source": [
    "\n",
    "from numpy import prod\n",
    "def PR(x,y,c):\n",
    "    S = [] \n",
    "    n = len(x)\n",
    "    \n",
    "    for j in range(n):\n",
    "        L =[c-xx for xx in x]\n",
    "        for k in range(n):\n",
    "            if (k == j):                \n",
    "                L[k] = 1\n",
    "            else:\n",
    "                L[k] = L[k]/(x[j] - x[k])   \n",
    "        S.append(y[j]*prod(L))\n",
    "        \n",
    "    return  sum(S)"
   ]
  },
  {
   "cell_type": "code",
   "execution_count": 38,
   "metadata": {},
   "outputs": [
    {
     "name": "stdout",
     "output_type": "stream",
     "text": [
      "-1.0\n",
      "0.0\n",
      "2.0\n",
      "1.0\n",
      "3.0\n"
     ]
    },
    {
     "data": {
      "text/plain": [
       "8"
      ]
     },
     "execution_count": 38,
     "metadata": {},
     "output_type": "execute_result"
    }
   ],
   "source": [
    "X=[1 ,2 ,3 ,4,-2]\n",
    "Y=[-1, 0, 2 ,1,3]\n",
    "for i in X:\n",
    "    print(prog(X,Y,i))\n",
    "sum(X)"
   ]
  },
  {
   "cell_type": "markdown",
   "metadata": {},
   "source": [
    "### 1)"
   ]
  },
  {
   "cell_type": "code",
   "execution_count": 40,
   "metadata": {},
   "outputs": [],
   "source": [
    "\n",
    "from numpy import prod\n",
    "def PR(x,y,c):\n",
    "    S = [] \n",
    "    n = len(x)\n",
    "    \n",
    "    for j in range(n):\n",
    "        L =[c-xx for xx in x]\n",
    "        for k in range(n):\n",
    "            if (k == j):                \n",
    "                L[k] = 1\n",
    "            else:\n",
    "                L[k] = L[k]/(x[j] - x[k])   \n",
    "        S.append(y[j]*prod(L))\n",
    "        \n",
    "    return  sum(S)"
   ]
  },
  {
   "cell_type": "code",
   "execution_count": 41,
   "metadata": {},
   "outputs": [
    {
     "name": "stdout",
     "output_type": "stream",
     "text": [
      "-1.0\n",
      "0.0\n",
      "2.0\n",
      "1.0\n"
     ]
    },
    {
     "data": {
      "text/plain": [
       "10"
      ]
     },
     "execution_count": 41,
     "metadata": {},
     "output_type": "execute_result"
    }
   ],
   "source": [
    "X=[1 ,2 ,3 ,4];\n",
    "Y=[-1 ,0 ,2 ,1];\n",
    "for i in X:\n",
    "    print(PR(X,Y,i))\n",
    "sum(X)"
   ]
  },
  {
   "cell_type": "markdown",
   "metadata": {},
   "source": [
    "###### 2) Que contient le vecteur LL après la fin de la boucle kk "
   ]
  },
  {
   "cell_type": "code",
   "execution_count": 42,
   "metadata": {},
   "outputs": [],
   "source": [
    "x=[1 ,2 ,3 ,4]\n",
    "y=[-1 ,0 ,2 ,1]"
   ]
  },
  {
   "cell_type": "code",
   "execution_count": 43,
   "metadata": {},
   "outputs": [],
   "source": [
    "def PR2(x,y,c):\n",
    "    S = y\n",
    "    n = len(x)\n",
    "    for c in X:\n",
    "        for j in range(n):\n",
    "            L =[c-xx for xx in x]\n",
    "            for k in range (n):\n",
    "                if (k == j):\n",
    "                   L[k] = 1\n",
    "                else:\n",
    "                   L[k] = L[k]/(x[j] - x[k])\n",
    "            S.append(y[j]*prod(L)) \n",
    "    return L[3]"
   ]
  },
  {
   "cell_type": "code",
   "execution_count": 44,
   "metadata": {},
   "outputs": [
    {
     "name": "stdout",
     "output_type": "stream",
     "text": [
      "1\n",
      "1\n",
      "1\n",
      "1\n"
     ]
    }
   ],
   "source": [
    "for i in X:\n",
    "    print(PR2(X,Y,i))"
   ]
  },
  {
   "cell_type": "markdown",
   "metadata": {},
   "source": [
    "### 3) "
   ]
  },
  {
   "cell_type": "code",
   "execution_count": 45,
   "metadata": {},
   "outputs": [
    {
     "data": {
      "image/png": "[encoded data removed]",
      "text/plain": [
       "<Figure size 432x288 with 1 Axes>"
      ]
     },
     "metadata": {
      "needs_background": "light"
     },
     "output_type": "display_data"
    }
   ],
   "source": [
    "\n",
    "import numpy as np\n",
    "import matplotlib.pyplot as plt\n",
    "pn=[]\n",
    "x=np.arange(-1,1,0.1)\n",
    "f= lambda x:1/(1+x**2)\n",
    "y=f(x)\n",
    "t=np.linspace(-1,1,100)\n",
    "for i in range(len(t)):\n",
    "    pn.append(PR(x,y,t[i]))\n",
    "plt.plot(t,pn,\"r\",x,y,\"bo\",t,f(t),\"g\")\n",
    "plt.show()\n"
   ]
  },
  {
   "cell_type": "markdown",
   "metadata": {},
   "source": [
    "### 4) On considère la fonction $F$ suivante :"
   ]
  },
  {
   "cell_type": "code",
   "execution_count": 47,
   "metadata": {},
   "outputs": [
    {
     "data": {
      "image/png": "[encoded data removed]",
      "text/plain": [
       "<Figure size 432x288 with 1 Axes>"
      ]
     },
     "metadata": {
      "needs_background": "light"
     },
     "output_type": "display_data"
    }
   ],
   "source": [
    "import numpy as np\n",
    "import matplotlib.pyplot as plt\n",
    "import math\n",
    "pt=[]\n",
    "x=np.arange(0,3)\n",
    "f= lambda x:math.pi-math.cos(x/2)+x*math.sqrt(1-(x/2)**2)\n",
    "f_2=np.vectorize(f)\n",
    "y=f_2(x)\n",
    "t=np.linspace(-1,1,100)\n",
    "for i in range(len(t)):\n",
    "    pt.append(PR(x,y,t[i]))\n",
    "plt.plot(t,pt,\"r\",x,y,\"bo\",t,f_2(t),\"g\")\n",
    "plt.show()"
   ]
  },
  {
   "cell_type": "code",
   "execution_count": 48,
   "metadata": {},
   "outputs": [
    {
     "data": {
      "image/png": "[encoded data removed]",
      "text/plain": [
       "<Figure size 432x288 with 1 Axes>"
      ]
     },
     "metadata": {
      "needs_background": "light"
     },
     "output_type": "display_data"
    }
   ],
   "source": [
    "plt.plot(t,f_2(t)-pn,\"r\")\n",
    "plt.show()"
   ]
  },
  {
   "cell_type": "code",
   "execution_count": null,
   "metadata": {},
   "outputs": [],
   "source": []
  }
 ],
 "metadata": {
  "kernelspec": {
   "display_name": "Python 3",
   "language": "python",
   "name": "python3"
  },
  "language_info": {
   "codemirror_mode": {
    "name": "ipython",
    "version": 3
   },
   "file_extension": ".py",
   "mimetype": "text/x-python",
   "name": "python",
   "nbconvert_exporter": "python",
   "pygments_lexer": "ipython3",
   "version": "3.8.3"
  }
 },
 "nbformat": 4,
 "nbformat_minor": 4
}
