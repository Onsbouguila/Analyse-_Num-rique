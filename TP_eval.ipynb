{
 "cells": [
  {
   "cell_type": "markdown",
   "metadata": {},
   "source": [
    "##  TP1 : Réalisé par Bouguila Ons 2DNI2"
   ]
  },
  {
   "cell_type": "markdown",
   "metadata": {},
   "source": [
    "### Exemple 1 "
   ]
  },
  {
   "cell_type": "code",
   "execution_count": null,
   "metadata": {},
   "outputs": [],
   "source": [
    "import matplotlib.pyplot as plt"
   ]
  },
  {
   "cell_type": "markdown",
   "metadata": {},
   "source": [
    "#### fonction de moyenne "
   ]
  },
  {
   "cell_type": "code",
   "execution_count": 2,
   "metadata": {},
   "outputs": [],
   "source": [
    "\n",
    "def Xn(t,n):\n",
    "    s=0\n",
    "    for i in t:\n",
    "        s=s+i\n",
    "    return s/n\n"
   ]
  },
  {
   "cell_type": "markdown",
   "metadata": {},
   "source": [
    "#### fonction de Variance "
   ]
  },
  {
   "cell_type": "code",
   "execution_count": 3,
   "metadata": {},
   "outputs": [],
   "source": [
    "def Vn(t,n,xn):\n",
    "    s=0\n",
    "    for i in t:\n",
    "        s=s+(i-xn)**2\n",
    "    return s/n\n"
   ]
  },
  {
   "cell_type": "code",
   "execution_count": 4,
   "metadata": {},
   "outputs": [],
   "source": [
    "import random\n",
    "def create_table(n):\n",
    "    t=[]\n",
    "    for i in range(n+1):\n",
    "        t.append(random.uniform(0,1))\n",
    "    return t\n"
   ]
  },
  {
   "cell_type": "code",
   "execution_count": 30,
   "metadata": {},
   "outputs": [
    {
     "data": {
      "image/png": "[encoded data removed]",
      "text/plain": [
       "<Figure size 432x288 with 1 Axes>"
      ]
     },
     "metadata": {
      "needs_background": "light"
     },
     "output_type": "display_data"
    },
    {
     "name": "stdout",
     "output_type": "stream",
     "text": [
      "valeur aléatoire 100 la moyenne 49.88 la variance\n",
      "valeur aléatoire 100 la moyenne 53.35 la variance\n",
      "valeur aléatoire 1000 la moyenne 494.756 la variance\n",
      "valeur aléatoire 10000 la moyenne 4979.3238 la variance\n"
     ]
    }
   ],
   "source": [
    "import random\n",
    "n=[100,100,1000,10000]\n",
    "table=[]\n",
    "xn=[]\n",
    "for i in n:\n",
    "    t=create_table(i)\n",
    "    xn.append(Xn(t,i))\n",
    "    table.append(Vn(t,i,Xn(t,i)))\n",
    "plt.plot(n,table,'r*')\n",
    "plt.plot(n,xn,'g*')\n",
    "plt.show()\n",
    "for i in range(len(n)):\n",
    "    print('valeur aléatoire {} la moyenne {} la variance'.format(n[i],xn[i],table[i]))\n"
   ]
  },
  {
   "cell_type": "markdown",
   "metadata": {},
   "source": [
    "\n",
    "## Exemple 2"
   ]
  },
  {
   "cell_type": "code",
   "execution_count": null,
   "metadata": {},
   "outputs": [],
   "source": [
    "import numpy as np "
   ]
  },
  {
   "cell_type": "code",
   "execution_count": 11,
   "metadata": {},
   "outputs": [],
   "source": [
    "def create_table(n,lamda):\n",
    "    t=np.random.exponential(1/lamda,n)\n",
    "    return t\n"
   ]
  },
  {
   "cell_type": "code",
   "execution_count": 20,
   "metadata": {},
   "outputs": [
    {
     "name": "stderr",
     "output_type": "stream",
     "text": [
      "<ipython-input-20-64995fd36494>:11: MatplotlibDeprecationWarning: Adding an axes using the same arguments as a previous axes currently reuses the earlier instance.  In a future version, a new instance will always be created and returned.  Meanwhile, this warning can be suppressed, and the future behavior ensured, by passing a unique label to each axes instance.\n",
      "  plt.subplot(2,2,1)\n",
      "<ipython-input-20-64995fd36494>:13: MatplotlibDeprecationWarning: Adding an axes using the same arguments as a previous axes currently reuses the earlier instance.  In a future version, a new instance will always be created and returned.  Meanwhile, this warning can be suppressed, and the future behavior ensured, by passing a unique label to each axes instance.\n",
      "  plt.subplot(2,2,2)\n"
     ]
    },
    {
     "data": {
      "image/png": "[encoded data removed]",
      "text/plain": [
       "<Figure size 432x288 with 2 Axes>"
      ]
     },
     "metadata": {
      "needs_background": "light"
     },
     "output_type": "display_data"
    },
    {
     "name": "stdout",
     "output_type": "stream",
     "text": [
      "les valeurs aleatoires 100000 [[0.0891829203795701], [0.09319269988768748], [0.11188178879353891], [0.10905230306147046], [0.009746646834108074], [0.010005897789816412], [0.010160438711669497], [0.009748252979707656], [0.0009894967772844843], [0.0010219511912034822], [0.0009951838193987385], [0.001000337938294318], [9.998974571590888e-05], [0.00010003636490119935], [0.00010005988744321559], [9.996323052744404e-05]] la moyenne la variance\n",
      "les valeurs aleatoires 100000 [[0.0891829203795701], [0.09319269988768748], [0.11188178879353891], [0.10905230306147046], [0.009746646834108074], [0.010005897789816412], [0.010160438711669497], [0.009748252979707656], [0.0009894967772844843], [0.0010219511912034822], [0.0009951838193987385], [0.001000337938294318], [9.998974571590888e-05], [0.00010003636490119935], [0.00010005988744321559], [9.996323052744404e-05]] la moyenne la variance\n",
      "les valeurs aleatoires 100000 [[0.0891829203795701], [0.09319269988768748], [0.11188178879353891], [0.10905230306147046], [0.009746646834108074], [0.010005897789816412], [0.010160438711669497], [0.009748252979707656], [0.0009894967772844843], [0.0010219511912034822], [0.0009951838193987385], [0.001000337938294318], [9.998974571590888e-05], [0.00010003636490119935], [0.00010005988744321559], [9.996323052744404e-05]] la moyenne la variance\n",
      "les valeurs aleatoires 100000 [[0.0891829203795701], [0.09319269988768748], [0.11188178879353891], [0.10905230306147046], [0.009746646834108074], [0.010005897789816412], [0.010160438711669497], [0.009748252979707656], [0.0009894967772844843], [0.0010219511912034822], [0.0009951838193987385], [0.001000337938294318], [9.998974571590888e-05], [0.00010003636490119935], [0.00010005988744321559], [9.996323052744404e-05]] la moyenne la variance\n",
      "les valeurs aleatoires 100000 [[0.0891829203795701], [0.09319269988768748], [0.11188178879353891], [0.10905230306147046], [0.009746646834108074], [0.010005897789816412], [0.010160438711669497], [0.009748252979707656], [0.0009894967772844843], [0.0010219511912034822], [0.0009951838193987385], [0.001000337938294318], [9.998974571590888e-05], [0.00010003636490119935], [0.00010005988744321559], [9.996323052744404e-05]] la moyenne la variance\n",
      "les valeurs aleatoires 100000 [[0.0891829203795701], [0.09319269988768748], [0.11188178879353891], [0.10905230306147046], [0.009746646834108074], [0.010005897789816412], [0.010160438711669497], [0.009748252979707656], [0.0009894967772844843], [0.0010219511912034822], [0.0009951838193987385], [0.001000337938294318], [9.998974571590888e-05], [0.00010003636490119935], [0.00010005988744321559], [9.996323052744404e-05]] la moyenne la variance\n",
      "les valeurs aleatoires 100000 [[0.0891829203795701], [0.09319269988768748], [0.11188178879353891], [0.10905230306147046], [0.009746646834108074], [0.010005897789816412], [0.010160438711669497], [0.009748252979707656], [0.0009894967772844843], [0.0010219511912034822], [0.0009951838193987385], [0.001000337938294318], [9.998974571590888e-05], [0.00010003636490119935], [0.00010005988744321559], [9.996323052744404e-05]] la moyenne la variance\n",
      "les valeurs aleatoires 100000 [[0.0891829203795701], [0.09319269988768748], [0.11188178879353891], [0.10905230306147046], [0.009746646834108074], [0.010005897789816412], [0.010160438711669497], [0.009748252979707656], [0.0009894967772844843], [0.0010219511912034822], [0.0009951838193987385], [0.001000337938294318], [9.998974571590888e-05], [0.00010003636490119935], [0.00010005988744321559], [9.996323052744404e-05]] la moyenne la variance\n",
      "les valeurs aleatoires 100000 [[0.0891829203795701], [0.09319269988768748], [0.11188178879353891], [0.10905230306147046], [0.009746646834108074], [0.010005897789816412], [0.010160438711669497], [0.009748252979707656], [0.0009894967772844843], [0.0010219511912034822], [0.0009951838193987385], [0.001000337938294318], [9.998974571590888e-05], [0.00010003636490119935], [0.00010005988744321559], [9.996323052744404e-05]] la moyenne la variance\n",
      "les valeurs aleatoires 100000 [[0.0891829203795701], [0.09319269988768748], [0.11188178879353891], [0.10905230306147046], [0.009746646834108074], [0.010005897789816412], [0.010160438711669497], [0.009748252979707656], [0.0009894967772844843], [0.0010219511912034822], [0.0009951838193987385], [0.001000337938294318], [9.998974571590888e-05], [0.00010003636490119935], [0.00010005988744321559], [9.996323052744404e-05]] la moyenne la variance\n",
      "les valeurs aleatoires 100000 [[0.0891829203795701], [0.09319269988768748], [0.11188178879353891], [0.10905230306147046], [0.009746646834108074], [0.010005897789816412], [0.010160438711669497], [0.009748252979707656], [0.0009894967772844843], [0.0010219511912034822], [0.0009951838193987385], [0.001000337938294318], [9.998974571590888e-05], [0.00010003636490119935], [0.00010005988744321559], [9.996323052744404e-05]] la moyenne la variance\n",
      "les valeurs aleatoires 100000 [[0.0891829203795701], [0.09319269988768748], [0.11188178879353891], [0.10905230306147046], [0.009746646834108074], [0.010005897789816412], [0.010160438711669497], [0.009748252979707656], [0.0009894967772844843], [0.0010219511912034822], [0.0009951838193987385], [0.001000337938294318], [9.998974571590888e-05], [0.00010003636490119935], [0.00010005988744321559], [9.996323052744404e-05]] la moyenne la variance\n",
      "les valeurs aleatoires 100000 [[0.0891829203795701], [0.09319269988768748], [0.11188178879353891], [0.10905230306147046], [0.009746646834108074], [0.010005897789816412], [0.010160438711669497], [0.009748252979707656], [0.0009894967772844843], [0.0010219511912034822], [0.0009951838193987385], [0.001000337938294318], [9.998974571590888e-05], [0.00010003636490119935], [0.00010005988744321559], [9.996323052744404e-05]] la moyenne la variance\n",
      "les valeurs aleatoires 100000 [[0.0891829203795701], [0.09319269988768748], [0.11188178879353891], [0.10905230306147046], [0.009746646834108074], [0.010005897789816412], [0.010160438711669497], [0.009748252979707656], [0.0009894967772844843], [0.0010219511912034822], [0.0009951838193987385], [0.001000337938294318], [9.998974571590888e-05], [0.00010003636490119935], [0.00010005988744321559], [9.996323052744404e-05]] la moyenne la variance\n",
      "les valeurs aleatoires 100000 [[0.0891829203795701], [0.09319269988768748], [0.11188178879353891], [0.10905230306147046], [0.009746646834108074], [0.010005897789816412], [0.010160438711669497], [0.009748252979707656], [0.0009894967772844843], [0.0010219511912034822], [0.0009951838193987385], [0.001000337938294318], [9.998974571590888e-05], [0.00010003636490119935], [0.00010005988744321559], [9.996323052744404e-05]] la moyenne la variance\n",
      "les valeurs aleatoires 100000 [[0.0891829203795701], [0.09319269988768748], [0.11188178879353891], [0.10905230306147046], [0.009746646834108074], [0.010005897789816412], [0.010160438711669497], [0.009748252979707656], [0.0009894967772844843], [0.0010219511912034822], [0.0009951838193987385], [0.001000337938294318], [9.998974571590888e-05], [0.00010003636490119935], [0.00010005988744321559], [9.996323052744404e-05]] la moyenne la variance\n"
     ]
    }
   ],
   "source": [
    "xn=[[]]*4\n",
    "table=[[]]*4\n",
    "from ipykernel import kernelapp as app\n",
    "lamda=[10,100,1000,10000]\n",
    "for i in range(4):\n",
    "    for j in range(4):\n",
    "        t=create_table(n[i],lamda[i])\n",
    "        x=Xn(t,n[i])\n",
    "        xn[i].append([x])\n",
    "        table[i].append([Vn(t,n[i],x)])\n",
    "        plt.subplot(2,2,1)\n",
    "        plt.plot(lamda[j],table[i][j],'ro')\n",
    "        plt.subplot(2,2,2)\n",
    "        plt.plot(lamda[j],x,'bo')\n",
    "plt.show()\n",
    "li=0\n",
    "ni=0\n",
    "ii=0\n",
    "while ii<16:\n",
    "    if li==4:\n",
    "        li=0\n",
    "        ni+=1\n",
    "    print('les valeurs aleatoires {} {} la moyenne la variance'.format(n[i],xn[i]))\n",
    "    ii+=1\n",
    "    li+=1"
   ]
  },
  {
   "cell_type": "markdown",
   "metadata": {},
   "source": [
    "## Exemple 3 "
   ]
  },
  {
   "cell_type": "code",
   "execution_count": null,
   "metadata": {},
   "outputs": [],
   "source": [
    "def create_table(n):\n",
    "    return np.random.randint(0,n+1,n)\n",
    "print(create_table(5))"
   ]
  },
  {
   "cell_type": "code",
   "execution_count": 22,
   "metadata": {},
   "outputs": [
    {
     "name": "stderr",
     "output_type": "stream",
     "text": [
      "<ipython-input-2-5974c8d36b94>:4: RuntimeWarning: overflow encountered in long_scalars\n",
      "  s=s+i\n"
     ]
    },
    {
     "data": {
      "image/png": "[encoded data removed]",
      "text/plain": [
       "<Figure size 432x288 with 2 Axes>"
      ]
     },
     "metadata": {
      "needs_background": "light"
     },
     "output_type": "display_data"
    },
    {
     "name": "stdout",
     "output_type": "stream",
     "text": [
      "valeur aléatoire 100 la moyenne 50.08 la variance 843.2535999999999\n",
      "valeur aléatoire 1000 la moyenne 508.167 la variance 81773.39911099995\n",
      "valeur aléatoire 10000 la moyenne 5028.4856 la variance 8226551.838192668\n",
      "valeur aléatoire 100000 la moyenne 7026.76458 la variance 2678198668.975821\n",
      "valeur aléatoire 1000000 la moyenne 1821.797267 la variance 331628412433.56433\n"
     ]
    }
   ],
   "source": [
    "plt.style.use('seaborn-deep')\n",
    "xn=[]\n",
    "teta=[]\n",
    "for i in n:\n",
    "    t=create_table(i)\n",
    "    x=Xn(t,i)\n",
    "    xn.append(x)\n",
    "    teta.append(Vn(t,i,x))\n",
    "plt.subplot(2,2,1)\n",
    "plt.plot(n,teta,'r*')\n",
    "plt.subplot(2,2,2)\n",
    "plt.plot(n,xn,'b*')\n",
    "\n",
    "plt.show()\n",
    "for i in range(len(n)):\n",
    "    print('valeur aléatoire {} la moyenne {} la variance {}'.format(n[i],xn[i],teta[i]))\n"
   ]
  },
  {
   "cell_type": "markdown",
   "metadata": {},
   "source": [
    "## Exemple 4 "
   ]
  },
  {
   "cell_type": "code",
   "execution_count": null,
   "metadata": {},
   "outputs": [],
   "source": [
    "def create_tab(n):\n",
    "    x=[]\n",
    "    t=np.random.uniform(0, 1,n)\n",
    "    for i in t:\n",
    "        if i<0.3:\n",
    "            x.append(0)\n",
    "        elif i<0.5:\n",
    "            x.append(2)\n",
    "        else:\n",
    "            x.append(6)\n",
    "        return x "
   ]
  },
  {
   "cell_type": "code",
   "execution_count": 34,
   "metadata": {},
   "outputs": [
    {
     "name": "stdout",
     "output_type": "stream",
     "text": [
      "valeur aléatoire 100 la moyenne 0.02 la variance 0.039203999999999996\n",
      "valeur aléatoire 100 la moyenne 0.06 la variance 0.3528360000000001\n",
      "valeur aléatoire 1000 la moyenne 0.006 la variance 0.035928035999999997\n",
      "valeur aléatoire 10000 la moyenne 0.0002 la variance 0.00039992000400000004\n"
     ]
    }
   ],
   "source": [
    "xn=[]\n",
    "teta=[]\n",
    "for i in n:\n",
    "    t=create_tab(i)\n",
    "    x=Xn(t,i)\n",
    "    xn.append(x)\n",
    "    teta.append(Vn(t,i,x))\n",
    "for i in range(len(n)):\n",
    "        print('valeur aléatoire {} la moyenne {} la variance {}'.format(n[i],xn[i],teta[i]))"
   ]
  },
  {
   "cell_type": "code",
   "execution_count": null,
   "metadata": {},
   "outputs": [],
   "source": []
  },
  {
   "cell_type": "code",
   "execution_count": null,
   "metadata": {},
   "outputs": [],
   "source": []
  }
 ],
 "metadata": {
  "kernelspec": {
   "display_name": "Python 3",
   "language": "python",
   "name": "python3"
  },
  "language_info": {
   "codemirror_mode": {
    "name": "ipython",
    "version": 3
   },
   "file_extension": ".py",
   "mimetype": "text/x-python",
   "name": "python",
   "nbconvert_exporter": "python",
   "pygments_lexer": "ipython3",
   "version": "3.8.3"
  }
 },
 "nbformat": 4,
 "nbformat_minor": 4
}
